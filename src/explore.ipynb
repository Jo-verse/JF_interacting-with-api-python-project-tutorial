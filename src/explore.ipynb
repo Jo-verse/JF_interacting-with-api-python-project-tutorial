{
    "cells": [
        {
            "cell_type": "markdown",
            "metadata": {},
            "source": [
                "# Explore here"
            ]
        },
        {
            "cell_type": "code",
            "execution_count": 10,
            "metadata": {},
            "outputs": [],
            "source": [
                "import os\n",
                "import pandas as pd\n",
                "import seaborn as sns\n",
                "from dotenv import load_dotenv\n",
                "import spotipy\n",
                "from spotipy.oauth2 import SpotifyClientCredentials\n",
                "import matplotlib.pyplot as plt\n"
            ]
        },
        {
            "cell_type": "code",
            "execution_count": 2,
            "metadata": {},
            "outputs": [
                {
                    "name": "stdout",
                    "output_type": "stream",
                    "text": [
                        "1d23e2583c784cc59ca3b54ba929f529 8f5dbc598fbb4ae684b4ad57953d9a21\n"
                    ]
                }
            ],
            "source": [
                "load_dotenv()\n",
                "\n",
                "client_id = os.environ.get(\"CLIENT_ID\")\n",
                "client_secret = os.environ.get(\"CLIENT_SECRET\")\n",
                "\n",
                "print(client_id, client_secret)"
            ]
        },
        {
            "cell_type": "code",
            "execution_count": 5,
            "metadata": {},
            "outputs": [
                {
                    "data": {
                        "text/plain": [
                            "[{'nombre': 'FAKE LOVE', 'popularidad': 75, 'duracion_minutos': 4.04},\n",
                            " {'nombre': 'Dynamite', 'popularidad': 76, 'duracion_minutos': 3.32},\n",
                            " {'nombre': 'My Universe', 'popularidad': 72, 'duracion_minutos': 3.77},\n",
                            " {'nombre': 'Boy With Luv (feat. Halsey)',\n",
                            "  'popularidad': 72,\n",
                            "  'duracion_minutos': 3.83},\n",
                            " {'nombre': 'Left and Right (Feat. Jung Kook of BTS)',\n",
                            "  'popularidad': 70,\n",
                            "  'duracion_minutos': 2.57},\n",
                            " {'nombre': 'Life Goes On', 'popularidad': 71, 'duracion_minutos': 3.46},\n",
                            " {'nombre': 'Butter', 'popularidad': 70, 'duracion_minutos': 2.75},\n",
                            " {'nombre': 'Dreamers [Music from the FIFA World Cup Qatar 2022 Official Soundtrack]',\n",
                            "  'popularidad': 71,\n",
                            "  'duracion_minutos': 3.36},\n",
                            " {'nombre': 'Run BTS', 'popularidad': 71, 'duracion_minutos': 3.42},\n",
                            " {'nombre': 'Spring Day', 'popularidad': 69, 'duracion_minutos': 4.57}]"
                        ]
                    },
                    "execution_count": 5,
                    "metadata": {},
                    "output_type": "execute_result"
                }
            ],
            "source": [
                "spotify = spotipy.Spotify(auth_manager=SpotifyClientCredentials(client_id=client_id,\n",
                "                                                           client_secret=client_secret))\n",
                "\n",
                "artist_id = \"3Nrfpe0tUJi4K4DXYWgMUX\"\n",
                "\n",
                "# Función para obtener el top 10 de canciones del artista\n",
                "def get_top_tracks(artist_id):\n",
                "    results = spotify.artist_top_tracks(artist_id)\n",
                "    tracks = results[\"tracks\"][:10]  # Top 10 canciones\n",
                "    return [\n",
                "        {\n",
                "            \"nombre\": track[\"name\"],\n",
                "            \"popularidad\": track[\"popularity\"],\n",
                "            \"duracion_minutos\": round(track[\"duration_ms\"] / 60000, 2)\n",
                "        }\n",
                "        for track in tracks\n",
                "    ]\n",
                "top_tracks = get_top_tracks(artist_id)\n",
                "top_tracks"
            ]
        },
        {
            "cell_type": "code",
            "execution_count": 9,
            "metadata": {},
            "outputs": [
                {
                    "data": {
                        "text/html": [
                            "<div>\n",
                            "<style scoped>\n",
                            "    .dataframe tbody tr th:only-of-type {\n",
                            "        vertical-align: middle;\n",
                            "    }\n",
                            "\n",
                            "    .dataframe tbody tr th {\n",
                            "        vertical-align: top;\n",
                            "    }\n",
                            "\n",
                            "    .dataframe thead th {\n",
                            "        text-align: right;\n",
                            "    }\n",
                            "</style>\n",
                            "<table border=\"1\" class=\"dataframe\">\n",
                            "  <thead>\n",
                            "    <tr style=\"text-align: right;\">\n",
                            "      <th></th>\n",
                            "      <th>nombre</th>\n",
                            "      <th>popularidad</th>\n",
                            "      <th>duracion_minutos</th>\n",
                            "    </tr>\n",
                            "  </thead>\n",
                            "  <tbody>\n",
                            "    <tr>\n",
                            "      <th>9</th>\n",
                            "      <td>Spring Day</td>\n",
                            "      <td>69</td>\n",
                            "      <td>4.57</td>\n",
                            "    </tr>\n",
                            "    <tr>\n",
                            "      <th>6</th>\n",
                            "      <td>Butter</td>\n",
                            "      <td>70</td>\n",
                            "      <td>2.75</td>\n",
                            "    </tr>\n",
                            "    <tr>\n",
                            "      <th>4</th>\n",
                            "      <td>Left and Right (Feat. Jung Kook of BTS)</td>\n",
                            "      <td>70</td>\n",
                            "      <td>2.57</td>\n",
                            "    </tr>\n",
                            "  </tbody>\n",
                            "</table>\n",
                            "</div>"
                        ],
                        "text/plain": [
                            "                                    nombre  popularidad  duracion_minutos\n",
                            "9                               Spring Day           69              4.57\n",
                            "6                                   Butter           70              2.75\n",
                            "4  Left and Right (Feat. Jung Kook of BTS)           70              2.57"
                        ]
                    },
                    "execution_count": 9,
                    "metadata": {},
                    "output_type": "execute_result"
                }
            ],
            "source": [
                "df = pd.DataFrame(top_tracks)\n",
                "\n",
                "# Ordenar por popularidad creciente\n",
                "df_sorted = df.sort_values(by=\"popularidad\", ascending=True)\n",
                "\n",
                "# Mostrar el top 3 más popular\n",
                "top_3 = df_sorted.head(3)\n",
                "top_3\n"
            ]
        },
        {
            "cell_type": "code",
            "execution_count": 11,
            "metadata": {},
            "outputs": [
                {
                    "data": {
                        "image/png": "[encoded data removed]",
                        "text/plain": [
                            "<Figure size 1000x600 with 1 Axes>"
                        ]
                    },
                    "metadata": {},
                    "output_type": "display_data"
                }
            ],
            "source": [
                "plt.figure(figsize=(10, 6))\n",
                "sns.scatterplot(data=df, x=\"duracion_minutos\", y=\"popularidad\", marker='o', color='b')\n",
                "\n",
                "# Título y etiquetas\n",
                "plt.title('Relación entre la duración y la popularidad de las canciones de BTS')\n",
                "plt.xlabel('Duración (minutos)')\n",
                "plt.ylabel('Popularidad')\n",
                "\n",
                "# Mostrar el gráfico\n",
                "plt.show()"
            ]
        },
        {
            "cell_type": "markdown",
            "metadata": {},
            "source": [
                "No hay una relación clara entre la duración de las canciones y su popularidad en BTS. El gráfico muestra una dispersión de puntos, lo que sugiere que otros factores, como la calidad de la producción y la conexión con los fanáticos, juegan un papel más importante que la duración en el éxito de las canciones."
            ]
        }
    ],
    "metadata": {
        "kernelspec": {
            "display_name": "Python 3",
            "language": "python",
            "name": "python3"
        },
        "language_info": {
            "codemirror_mode": {
                "name": "ipython",
                "version": 3
            },
            "file_extension": ".py",
            "mimetype": "text/x-python",
            "name": "python",
            "nbconvert_exporter": "python",
            "pygments_lexer": "ipython3",
            "version": "3.11.4"
        },
        "orig_nbformat": 4
    },
    "nbformat": 4,
    "nbformat_minor": 2
}
